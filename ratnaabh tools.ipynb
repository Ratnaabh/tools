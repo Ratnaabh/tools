{
 "cells": [
  {
   "cell_type": "markdown",
   "id": "2aa881ab",
   "metadata": {},
   "source": [
    "# Data Science Tools and Ecosystem"
   ]
  },
  {
   "cell_type": "markdown",
   "id": "61a84170",
   "metadata": {},
   "source": [
    "## Introduction\n",
    "In this notebook, we will explore the different languages, libraries, and tools used in the field of Data Science. Additionally, we will demonstrate some basic arithmetic expressions.\n",
    "\n"
   ]
  },
  {
   "cell_type": "markdown",
   "id": "f97c284e",
   "metadata": {},
   "source": [
    "## Data Science Languages\n",
    "1.  Python\n",
    "2.  R\n",
    "3.  SQL\n",
    "4.  Scala\n",
    "5.  Java\n",
    "6.  Julia\n",
    "7.  Go\n",
    "8.  Php\n",
    "9.  Ruby\n",
    "10. c++\n",
    "11. Javascript\n",
    "12. Visual Basic"
   ]
  },
  {
   "cell_type": "markdown",
   "id": "ec5935ca",
   "metadata": {},
   "source": [
    "## Data Science Libraries\n",
    "1.  Pandas\n",
    "2.  NumPy\n",
    "3.  Matplotlib\n",
    "4.  Scikit-learn\n",
    "5.  TensorFlow\n",
    "6.  Keras\n",
    "7.  Seaborn\n",
    "8.  PyTorch\n",
    "9.  Apache Spark\n",
    "10. Vegas\n",
    "11. Big DL\n",
    "12. Ggplot2\n"
   ]
  },
  {
   "cell_type": "markdown",
   "id": "92d4ac4e",
   "metadata": {},
   "source": [
    "## Data Science Tools\n",
    "\n",
    "| Tool              | Description                         |\n",
    "|-------------------|-------------------------------------|\n",
    "| Jupyter Notebook  | Interactive coding environment      |\n",
    "| RStudio           | IDE for R programming               |\n",
    "| Apache Hadoop     | Framework for distributed storage   |\n",
    "| TensorFlow        | Deep learning framework             |\n",
    "| Apache Spark      | Distributed data processing engine  |\n"
   ]
  },
  {
   "cell_type": "markdown",
   "id": "aa7c0635",
   "metadata": {},
   "source": [
    "## Arithmetic Expression Examples\n",
    "In the following cells, we will demonstrate some basic arithmetic operations such as multiplication and addition.\n"
   ]
  },
  {
   "cell_type": "markdown",
   "id": "f9059d04",
   "metadata": {},
   "source": [
    "# Multiplication and Addition Example\n"
   ]
  },
  {
   "cell_type": "code",
   "execution_count": 2,
   "id": "f9b3f3e5",
   "metadata": {
    "scrolled": true
   },
   "outputs": [
    {
     "data": {
      "text/plain": [
       "40"
      ]
     },
     "execution_count": 2,
     "metadata": {},
     "output_type": "execute_result"
    }
   ],
   "source": [
    "(5 * 6) + 10"
   ]
  },
  {
   "cell_type": "markdown",
   "id": "dd67d788",
   "metadata": {},
   "source": [
    "# Convert minutes to hours\n"
   ]
  },
  {
   "cell_type": "code",
   "execution_count": 3,
   "id": "4bbcff49",
   "metadata": {
    "scrolled": true
   },
   "outputs": [
    {
     "data": {
      "text/plain": [
       "2.0"
      ]
     },
     "execution_count": 3,
     "metadata": {},
     "output_type": "execute_result"
    }
   ],
   "source": [
    "minutes = 120\n",
    "hours = minutes / 60\n",
    "hours"
   ]
  },
  {
   "cell_type": "markdown",
   "id": "6d0a6a8e",
   "metadata": {},
   "source": [
    "## Objectives\n",
    "- Understand the core languages used in Data Science\n",
    "- Explore common libraries for Data Science\n",
    "- Learn about essential tools in the Data Science ecosystem\n",
    "- Practice basic arithmetic expressions in Python"
   ]
  },
  {
   "cell_type": "markdown",
   "id": "63c19b91",
   "metadata": {},
   "source": [
    "## Author\n",
    "Ratnaabh Singh"
   ]
  },
  {
   "cell_type": "code",
   "execution_count": null,
   "id": "c6e68d17",
   "metadata": {},
   "outputs": [],
   "source": []
  }
 ],
 "metadata": {
  "kernelspec": {
   "display_name": "Python 3 (ipykernel)",
   "language": "python",
   "name": "python3"
  },
  "language_info": {
   "codemirror_mode": {
    "name": "ipython",
    "version": 3
   },
   "file_extension": ".py",
   "mimetype": "text/x-python",
   "name": "python",
   "nbconvert_exporter": "python",
   "pygments_lexer": "ipython3",
   "version": "3.11.5"
  }
 },
 "nbformat": 4,
 "nbformat_minor": 5
}
